{
 "cells": [
  {
   "cell_type": "code",
   "execution_count": 1,
   "id": "cd42855d",
   "metadata": {},
   "outputs": [],
   "source": [
    "import requests\n",
    "import pandas as pd\n",
    "import os\n",
    "from dotenv import load_dotenv\n",
    "import datetime as dt\n",
    "import calendar\n",
    "from datetime import datetime, timedelta\n",
    "\n",
    "import seaborn as sns"
   ]
  },
  {
   "cell_type": "code",
   "execution_count": 2,
   "id": "1606149c",
   "metadata": {},
   "outputs": [],
   "source": [
    "#Data cleanning and ordering function DON`T delete\n",
    "def df_nearobjects(df, date):\n",
    "    df = pd.DataFrame(df[date])\n",
    "    \n",
    "    #Link\n",
    "    link = df.links.apply(lambda x: x['self'])\n",
    "    \n",
    "    #Min diameter in KM\n",
    "    min_diameter = df.estimated_diameter.apply(lambda x: x['kilometers']['estimated_diameter_min'])\n",
    "    \n",
    "    #Max diameter in KM\n",
    "    max_diameter = df.estimated_diameter.apply(lambda x: x['kilometers']['estimated_diameter_max'])\n",
    "    \n",
    "    #Clase date to earth\n",
    "    close_date = df.close_approach_data.apply(lambda x: x[0]['close_approach_date'])\n",
    "\n",
    "    #Velocity in km per hour\n",
    "    relative_vel_kmperhour = df.close_approach_data.apply(lambda x: x[0]['relative_velocity']['kilometers_per_hour'])\n",
    "    orbit_object = df.close_approach_data.apply(lambda x: x[0]['orbiting_body'])\n",
    "\n",
    "    #Distance needed to cause damage\n",
    "    miss_distance_km = df.close_approach_data.apply(lambda x: x[0]['miss_distance']['kilometers'])\n",
    "    \n",
    "    #Join new info\n",
    "    df = df.join(link, rsuffix='lk')\n",
    "    df = df.join(min_diameter, rsuffix='min_')\n",
    "    df = df.join(max_diameter, lsuffix='max_')\n",
    "    df = df.join(close_date, lsuffix='date')\n",
    "    df = df.join(relative_vel_kmperhour, lsuffix='perhour')\n",
    "    df = df.join(orbit_object, lsuffix='obj')\n",
    "    df = df.join(miss_distance_km, lsuffix='disty')\n",
    "    \n",
    "    #Filter \n",
    "    df = df[['id', 'neo_reference_id', 'name', 'nasa_jpl_url',\n",
    "       'absolute_magnitude_h', 'is_potentially_hazardous_asteroid',\n",
    "       'is_sentry_object', 'estimated_diametermin_', 'estimated_diameter',\n",
    "       'close_approach_dataperhour', 'close_approach_dataobj',\n",
    "       'close_approach_datadisty', 'close_approach_data']]\n",
    "    \n",
    "    #Column rename\n",
    "    df.columns = [['id', 'neo_reference_id', 'name', 'nasa_jpl_url',\n",
    "       'absolute_magnitude_h', 'is_potentially_hazardous_asteroid',\n",
    "       'is_sentry_object', 'min_diameter_km', 'max_diameter_km',\n",
    "       'close_date', 'relative_velocity_perhour',\n",
    "       'orbit_object', 'missing_distance_km']]\n",
    "                   \n",
    "    return df"
   ]
  },
  {
   "cell_type": "code",
   "execution_count": 3,
   "id": "df1b2fab",
   "metadata": {},
   "outputs": [],
   "source": [
    "#Date ranges per week for selecting API dates\n",
    "\n",
    "dict_dates = {}\n",
    "\n",
    "start_date = datetime(2022, 1, 1)\n",
    "end_date = datetime(2022, 12, 31)\n",
    "current_date = start_date\n",
    "while current_date <= end_date:\n",
    "    dict_dates[current_date.strftime(format='%Y-%m-%d')] = (current_date + timedelta(days=6)).strftime(format='%Y-%m-%d')\n",
    "    current_date += timedelta(days=7)"
   ]
  },
  {
   "cell_type": "code",
   "execution_count": 4,
   "id": "53f4e812",
   "metadata": {},
   "outputs": [],
   "source": [
    "df_asteroids = []\n",
    "\n",
    "load_dotenv()\n",
    "key = os.getenv('KEY')\n",
    "\n",
    "for start, end in dict_dates.items():\n",
    "    url = f'https://api.nasa.gov/neo/rest/v1/feed?start_date={start}&end_date={end}&api_key={key}'\n",
    "\n",
    "    req = requests.get(url)\n",
    "\n",
    "    data = req.json()\n",
    "    near_objects = data.get('near_earth_objects')\n",
    "    df_asteroids.append(near_objects)"
   ]
  },
  {
   "cell_type": "code",
   "execution_count": 5,
   "id": "3e1c75d1",
   "metadata": {},
   "outputs": [],
   "source": [
    "l = []\n",
    "\n",
    "for i in range(len(df_asteroids)):\n",
    "    for x in df_asteroids[i].keys():\n",
    "        l.append(df_nearobjects(df_asteroids[i], x))\n",
    "        \n",
    "data_ast = pd.concat(l)"
   ]
  },
  {
   "cell_type": "code",
   "execution_count": 6,
   "id": "98820ca7",
   "metadata": {},
   "outputs": [],
   "source": [
    "data_ast= pd.DataFrame(data_ast)"
   ]
  },
  {
   "cell_type": "code",
   "execution_count": 7,
   "id": "05b39e43",
   "metadata": {},
   "outputs": [],
   "source": [
    "#Reset index\n",
    "data_ast = data_ast.sort_values(data_ast.columns[-4])\n",
    "data_ast.reset_index(inplace=True, drop=True)\n",
    "\n",
    "#Drop column levels\n",
    "data_ast.columns = data_ast.columns.to_flat_index()"
   ]
  },
  {
   "cell_type": "code",
   "execution_count": 8,
   "id": "7195485f",
   "metadata": {},
   "outputs": [],
   "source": [
    "#Fix column names affected by multilevel\n",
    "data_ast.columns = ['id',\n",
    "                    'neo_reference_id',\n",
    "                    'name',\n",
    "                    'nasa_jpl_url',\n",
    "                    'absolute_magnitude_h',\n",
    "                    'is_potentially_hazardous_asteroid',\n",
    "                    'is_sentry_object',\n",
    "                    'min_diameter_km',\n",
    "                    'max_diameter_km',\n",
    "                    'close_date',\n",
    "                    'relative_velocity_perhour',\n",
    "                    'orbit_object',\n",
    "                    'missing_distance_km']"
   ]
  },
  {
   "cell_type": "code",
   "execution_count": 9,
   "id": "56bcbf91",
   "metadata": {},
   "outputs": [],
   "source": [
    "#convert from object to float\n",
    "data_ast['missing_distance_km'] = data_ast['missing_distance_km'].astype(float)\n",
    "data_ast['relative_velocity_perhour'] = data_ast['relative_velocity_perhour'].astype(float)\n",
    "\n"
   ]
  },
  {
   "cell_type": "code",
   "execution_count": 10,
   "id": "92b2a4b6",
   "metadata": {},
   "outputs": [],
   "source": [
    "#Round to 2 decimals\n",
    "data_ast.min_diameter_km = round(data_ast.min_diameter_km, 2)\n",
    "data_ast.max_diameter_km = round(data_ast.max_diameter_km, 2)\n",
    "data_ast.relative_velocity_perhour = round(data_ast.relative_velocity_perhour, 2)\n",
    "data_ast.missing_distance_km = round(data_ast.missing_distance_km, 2)"
   ]
  },
  {
   "cell_type": "code",
   "execution_count": 11,
   "id": "de0044ca",
   "metadata": {},
   "outputs": [],
   "source": [
    "#Datetime data type\n",
    "data_ast['close_date'] = pd.to_datetime(data_ast['close_date'])"
   ]
  },
  {
   "cell_type": "markdown",
   "id": "d45c0eab",
   "metadata": {},
   "source": [
    "## Hazardous\n"
   ]
  },
  {
   "cell_type": "markdown",
   "id": "98934338",
   "metadata": {},
   "source": [
    "All hazardous Asteorids that orbits near the Earth in 2022"
   ]
  },
  {
   "cell_type": "code",
   "execution_count": 12,
   "id": "a6103f2c",
   "metadata": {},
   "outputs": [],
   "source": [
    "hazardous = data_ast[data_ast['is_potentially_hazardous_asteroid'] == True]"
   ]
  },
  {
   "cell_type": "code",
   "execution_count": 13,
   "id": "cf8ec1f7",
   "metadata": {},
   "outputs": [
    {
     "data": {
      "text/plain": [
       "is_potentially_hazardous_asteroid\n",
       "False    6105\n",
       "True      456\n",
       "dtype: int64"
      ]
     },
     "execution_count": 13,
     "metadata": {},
     "output_type": "execute_result"
    }
   ],
   "source": [
    "data_ast.value_counts('is_potentially_hazardous_asteroid')"
   ]
  },
  {
   "cell_type": "code",
   "execution_count": 14,
   "id": "a5063891",
   "metadata": {},
   "outputs": [
    {
     "data": {
      "text/plain": [
       "[Text(0.5, 1.0, 'Hazardous Asteroids'), Text(0, 0.5, '')]"
      ]
     },
     "execution_count": 14,
     "metadata": {},
     "output_type": "execute_result"
    },
    {
     "data": {
      "image/png": "[encoded data removed]",
      "text/plain": [
       "<Figure size 640x480 with 1 Axes>"
      ]
     },
     "metadata": {},
     "output_type": "display_data"
    }
   ],
   "source": [
    "hazardous_graph = data_ast.is_potentially_hazardous_asteroid.value_counts().plot(kind='pie')\n",
    "hazardous_graph.set(title='Hazardous Asteroids', ylabel='')"
   ]
  },
  {
   "cell_type": "code",
   "execution_count": 15,
   "id": "1cf3a59f",
   "metadata": {},
   "outputs": [
    {
     "data": {
      "text/html": [
       "<div>\n",
       "<style scoped>\n",
       "    .dataframe tbody tr th:only-of-type {\n",
       "        vertical-align: middle;\n",
       "    }\n",
       "\n",
       "    .dataframe tbody tr th {\n",
       "        vertical-align: top;\n",
       "    }\n",
       "\n",
       "    .dataframe thead th {\n",
       "        text-align: right;\n",
       "    }\n",
       "</style>\n",
       "<table border=\"1\" class=\"dataframe\">\n",
       "  <thead>\n",
       "    <tr style=\"text-align: right;\">\n",
       "      <th></th>\n",
       "      <th>absolute_magnitude_h</th>\n",
       "      <th>is_sentry_object</th>\n",
       "      <th>min_diameter_km</th>\n",
       "      <th>max_diameter_km</th>\n",
       "      <th>relative_velocity_perhour</th>\n",
       "      <th>missing_distance_km</th>\n",
       "    </tr>\n",
       "    <tr>\n",
       "      <th>is_potentially_hazardous_asteroid</th>\n",
       "      <th></th>\n",
       "      <th></th>\n",
       "      <th></th>\n",
       "      <th></th>\n",
       "      <th></th>\n",
       "      <th></th>\n",
       "    </tr>\n",
       "  </thead>\n",
       "  <tbody>\n",
       "    <tr>\n",
       "      <th>False</th>\n",
       "      <td>24.62</td>\n",
       "      <td>0.0</td>\n",
       "      <td>0.03</td>\n",
       "      <td>0.07</td>\n",
       "      <td>39490.09</td>\n",
       "      <td>2.644917e+07</td>\n",
       "    </tr>\n",
       "    <tr>\n",
       "      <th>True</th>\n",
       "      <td>20.70</td>\n",
       "      <td>0.0</td>\n",
       "      <td>0.19</td>\n",
       "      <td>0.43</td>\n",
       "      <td>59356.49</td>\n",
       "      <td>3.887417e+07</td>\n",
       "    </tr>\n",
       "  </tbody>\n",
       "</table>\n",
       "</div>"
      ],
      "text/plain": [
       "                                   absolute_magnitude_h  is_sentry_object  \\\n",
       "is_potentially_hazardous_asteroid                                           \n",
       "False                                             24.62               0.0   \n",
       "True                                              20.70               0.0   \n",
       "\n",
       "                                   min_diameter_km  max_diameter_km  \\\n",
       "is_potentially_hazardous_asteroid                                     \n",
       "False                                         0.03             0.07   \n",
       "True                                          0.19             0.43   \n",
       "\n",
       "                                   relative_velocity_perhour  \\\n",
       "is_potentially_hazardous_asteroid                              \n",
       "False                                               39490.09   \n",
       "True                                                59356.49   \n",
       "\n",
       "                                   missing_distance_km  \n",
       "is_potentially_hazardous_asteroid                       \n",
       "False                                     2.644917e+07  \n",
       "True                                      3.887417e+07  "
      ]
     },
     "execution_count": 15,
     "metadata": {},
     "output_type": "execute_result"
    }
   ],
   "source": [
    "data_ast.groupby(['is_potentially_hazardous_asteroid']).median()"
   ]
  },
  {
   "cell_type": "code",
   "execution_count": 16,
   "id": "a86cf691",
   "metadata": {},
   "outputs": [
    {
     "name": "stdout",
     "output_type": "stream",
     "text": [
      "The mean of Hazardous Asteroids Minimun diameter in KM is:  0.28\n",
      "The mean of Hazardous Asteroids Maximun diameter in KM is:  0.62\n"
     ]
    }
   ],
   "source": [
    "print(\"The mean of Hazardous Asteroids Minimun diameter in KM is: \", round(hazardous.min_diameter_km.mean(),2))\n",
    "print(\"The mean of Hazardous Asteroids Maximun diameter in KM is: \", round(hazardous.max_diameter_km.mean(),2))"
   ]
  },
  {
   "cell_type": "markdown",
   "id": "9ee08bf9",
   "metadata": {},
   "source": [
    "## Nearest Objects"
   ]
  },
  {
   "cell_type": "code",
   "execution_count": 17,
   "id": "0aee251a",
   "metadata": {},
   "outputs": [
    {
     "data": {
      "text/plain": [
       "close_date\n",
       "2022-04-01    2\n",
       "2022-01-11    1\n",
       "2022-05-30    1\n",
       "2022-11-27    1\n",
       "2022-10-29    1\n",
       "2022-10-27    1\n",
       "2022-10-20    1\n",
       "2022-10-16    1\n",
       "2022-09-19    1\n",
       "2022-09-17    1\n",
       "2022-09-01    1\n",
       "2022-07-07    1\n",
       "2022-05-25    1\n",
       "2022-01-23    1\n",
       "2022-05-22    1\n",
       "2022-05-10    1\n",
       "2022-04-08    1\n",
       "2022-03-25    1\n",
       "2022-03-09    1\n",
       "2022-02-13    1\n",
       "2022-02-12    1\n",
       "2022-02-10    1\n",
       "2022-02-05    1\n",
       "2022-11-28    1\n",
       "dtype: int64"
      ]
     },
     "execution_count": 17,
     "metadata": {},
     "output_type": "execute_result"
    }
   ],
   "source": [
    "nearest = data_ast.sort_values('missing_distance_km').head(25)\n",
    "nearest.value_counts('close_date')"
   ]
  },
  {
   "cell_type": "code",
   "execution_count": 18,
   "id": "15f0a613",
   "metadata": {},
   "outputs": [
    {
     "data": {
      "text/plain": [
       "<AxesSubplot:xlabel='absolute_magnitude_h', ylabel='missing_distance_km'>"
      ]
     },
     "execution_count": 18,
     "metadata": {},
     "output_type": "execute_result"
    },
    {
     "data": {
      "image/png": "[encoded data removed]",
      "text/plain": [
       "<Figure size 640x480 with 1 Axes>"
      ]
     },
     "metadata": {},
     "output_type": "display_data"
    }
   ],
   "source": [
    "nearest.plot.scatter('absolute_magnitude_h', 'missing_distance_km')"
   ]
  },
  {
   "cell_type": "code",
   "execution_count": 19,
   "id": "f98a61c1",
   "metadata": {},
   "outputs": [
    {
     "data": {
      "text/plain": [
       "<AxesSubplot:xlabel='relative_velocity_perhour', ylabel='missing_distance_km'>"
      ]
     },
     "execution_count": 19,
     "metadata": {},
     "output_type": "execute_result"
    },
    {
     "data": {
      "image/png": "[encoded data removed]",
      "text/plain": [
       "<Figure size 640x480 with 1 Axes>"
      ]
     },
     "metadata": {},
     "output_type": "display_data"
    }
   ],
   "source": [
    "nearest.plot.scatter('relative_velocity_perhour', 'missing_distance_km')"
   ]
  },
  {
   "cell_type": "code",
   "execution_count": 20,
   "id": "73a02684",
   "metadata": {},
   "outputs": [
    {
     "data": {
      "text/plain": [
       "<AxesSubplot:>"
      ]
     },
     "execution_count": 20,
     "metadata": {},
     "output_type": "execute_result"
    },
    {
     "data": {
      "image/png": "[encoded data removed]",
      "text/plain": [
       "<Figure size 640x480 with 1 Axes>"
      ]
     },
     "metadata": {},
     "output_type": "display_data"
    }
   ],
   "source": [
    "hazardous.missing_distance_km.hist(bins=20)"
   ]
  },
  {
   "cell_type": "markdown",
   "id": "dc37f4fb",
   "metadata": {},
   "source": [
    "## Asteroids per month"
   ]
  },
  {
   "cell_type": "code",
   "execution_count": 21,
   "id": "443c19dc",
   "metadata": {},
   "outputs": [
    {
     "name": "stderr",
     "output_type": "stream",
     "text": [
      "/var/folders/kv/d6xc1zws7w7403s69264637m0000gn/T/ipykernel_6771/1222903308.py:13: SettingWithCopyWarning: \n",
      "A value is trying to be set on a copy of a slice from a DataFrame.\n",
      "Try using .loc[row_indexer,col_indexer] = value instead\n",
      "\n",
      "See the caveats in the documentation: https://pandas.pydata.org/pandas-docs/stable/user_guide/indexing.html#returning-a-view-versus-a-copy\n",
      "  hazardous['month'] = months_haz\n"
     ]
    }
   ],
   "source": [
    "months = []\n",
    "\n",
    "for i in data_ast.close_date:\n",
    "    months.append(i.month)\n",
    "\n",
    "data_ast['month'] = months\n",
    "\n",
    "months_haz = []\n",
    "\n",
    "for i in hazardous.close_date:\n",
    "    months_haz.append(i.month)\n",
    "\n",
    "hazardous['month'] = months_haz"
   ]
  },
  {
   "cell_type": "code",
   "execution_count": 22,
   "id": "9a475212",
   "metadata": {},
   "outputs": [
    {
     "data": {
      "text/plain": [
       "[Text(0.5, 1.0, 'General Asteroides per month'), Text(0, 0.5, 'Asteroids')]"
      ]
     },
     "execution_count": 22,
     "metadata": {},
     "output_type": "execute_result"
    },
    {
     "data": {
      "image/png": "[encoded data removed]",
      "text/plain": [
       "<Figure size 640x480 with 1 Axes>"
      ]
     },
     "metadata": {},
     "output_type": "display_data"
    }
   ],
   "source": [
    "months_gen = data_ast.groupby('month').count()[['neo_reference_id']].sort_values('month').plot(kind='bar')\n",
    "months_gen.set(title='General Asteroides per month', ylabel='Asteroids')"
   ]
  },
  {
   "cell_type": "code",
   "execution_count": 23,
   "id": "889c8845",
   "metadata": {},
   "outputs": [
    {
     "data": {
      "text/plain": [
       "[Text(0.5, 1.0, 'Hazardous Asteroids per month'), Text(0, 0.5, 'Asteroids')]"
      ]
     },
     "execution_count": 23,
     "metadata": {},
     "output_type": "execute_result"
    },
    {
     "data": {
      "image/png": "[encoded data removed]",
      "text/plain": [
       "<Figure size 640x480 with 1 Axes>"
      ]
     },
     "metadata": {},
     "output_type": "display_data"
    }
   ],
   "source": [
    "haz_month = hazardous.groupby(hazardous['month']).count()[['neo_reference_id']].plot(kind='bar')\n",
    "haz_month.set(title='Hazardous Asteroids per month', ylabel='Asteroids')"
   ]
  },
  {
   "cell_type": "markdown",
   "id": "830a6a92",
   "metadata": {},
   "source": [
    "## Dangerous Distance"
   ]
  },
  {
   "cell_type": "markdown",
   "id": "7e9f9a10",
   "metadata": {},
   "source": [
    "According to NASA an asteroid potentially dangerous\" any asteroid that passes within 7.5 million kilometers of Earth."
   ]
  },
  {
   "cell_type": "code",
   "execution_count": 24,
   "id": "47c435ee",
   "metadata": {},
   "outputs": [],
   "source": [
    "nearest_ast = data_ast[data_ast['missing_distance_km'] < 7500000].sort_values('missing_distance_km')"
   ]
  },
  {
   "cell_type": "code",
   "execution_count": 25,
   "id": "ed7b682a",
   "metadata": {},
   "outputs": [
    {
     "data": {
      "text/html": [
       "<div>\n",
       "<style scoped>\n",
       "    .dataframe tbody tr th:only-of-type {\n",
       "        vertical-align: middle;\n",
       "    }\n",
       "\n",
       "    .dataframe tbody tr th {\n",
       "        vertical-align: top;\n",
       "    }\n",
       "\n",
       "    .dataframe thead th {\n",
       "        text-align: right;\n",
       "    }\n",
       "</style>\n",
       "<table border=\"1\" class=\"dataframe\">\n",
       "  <thead>\n",
       "    <tr style=\"text-align: right;\">\n",
       "      <th></th>\n",
       "      <th>id</th>\n",
       "      <th>neo_reference_id</th>\n",
       "      <th>name</th>\n",
       "      <th>nasa_jpl_url</th>\n",
       "      <th>absolute_magnitude_h</th>\n",
       "      <th>is_potentially_hazardous_asteroid</th>\n",
       "      <th>is_sentry_object</th>\n",
       "      <th>min_diameter_km</th>\n",
       "      <th>max_diameter_km</th>\n",
       "      <th>close_date</th>\n",
       "      <th>relative_velocity_perhour</th>\n",
       "      <th>orbit_object</th>\n",
       "      <th>missing_distance_km</th>\n",
       "      <th>month</th>\n",
       "    </tr>\n",
       "  </thead>\n",
       "  <tbody>\n",
       "    <tr>\n",
       "      <th>1511</th>\n",
       "      <td>54264240</td>\n",
       "      <td>54264240</td>\n",
       "      <td>(2022 FD1)</td>\n",
       "      <td>http://ssd.jpl.nasa.gov/sbdb.cgi?sstr=54264240</td>\n",
       "      <td>31.050</td>\n",
       "      <td>False</td>\n",
       "      <td>False</td>\n",
       "      <td>0.0</td>\n",
       "      <td>0.00</td>\n",
       "      <td>2022-03-25</td>\n",
       "      <td>66643.38</td>\n",
       "      <td>Earth</td>\n",
       "      <td>14844.54</td>\n",
       "      <td>3</td>\n",
       "    </tr>\n",
       "    <tr>\n",
       "      <th>4446</th>\n",
       "      <td>54305651</td>\n",
       "      <td>54305651</td>\n",
       "      <td>(2022 SK4)</td>\n",
       "      <td>http://ssd.jpl.nasa.gov/sbdb.cgi?sstr=54305651</td>\n",
       "      <td>30.350</td>\n",
       "      <td>False</td>\n",
       "      <td>False</td>\n",
       "      <td>0.0</td>\n",
       "      <td>0.01</td>\n",
       "      <td>2022-09-19</td>\n",
       "      <td>46822.50</td>\n",
       "      <td>Earth</td>\n",
       "      <td>14921.82</td>\n",
       "      <td>9</td>\n",
       "    </tr>\n",
       "    <tr>\n",
       "      <th>5183</th>\n",
       "      <td>54317890</td>\n",
       "      <td>54317890</td>\n",
       "      <td>(2022 UR4)</td>\n",
       "      <td>http://ssd.jpl.nasa.gov/sbdb.cgi?sstr=54317890</td>\n",
       "      <td>28.900</td>\n",
       "      <td>False</td>\n",
       "      <td>False</td>\n",
       "      <td>0.0</td>\n",
       "      <td>0.01</td>\n",
       "      <td>2022-10-20</td>\n",
       "      <td>54800.67</td>\n",
       "      <td>Earth</td>\n",
       "      <td>17044.85</td>\n",
       "      <td>10</td>\n",
       "    </tr>\n",
       "    <tr>\n",
       "      <th>2584</th>\n",
       "      <td>54281250</td>\n",
       "      <td>54281250</td>\n",
       "      <td>(2022 KP6)</td>\n",
       "      <td>http://ssd.jpl.nasa.gov/sbdb.cgi?sstr=54281250</td>\n",
       "      <td>29.410</td>\n",
       "      <td>False</td>\n",
       "      <td>False</td>\n",
       "      <td>0.0</td>\n",
       "      <td>0.01</td>\n",
       "      <td>2022-05-25</td>\n",
       "      <td>35576.40</td>\n",
       "      <td>Earth</td>\n",
       "      <td>17426.49</td>\n",
       "      <td>5</td>\n",
       "    </tr>\n",
       "    <tr>\n",
       "      <th>1799</th>\n",
       "      <td>54275865</td>\n",
       "      <td>54275865</td>\n",
       "      <td>(2022 GQ5)</td>\n",
       "      <td>http://ssd.jpl.nasa.gov/sbdb.cgi?sstr=54275865</td>\n",
       "      <td>31.710</td>\n",
       "      <td>False</td>\n",
       "      <td>False</td>\n",
       "      <td>0.0</td>\n",
       "      <td>0.00</td>\n",
       "      <td>2022-04-08</td>\n",
       "      <td>51054.09</td>\n",
       "      <td>Earth</td>\n",
       "      <td>18951.27</td>\n",
       "      <td>4</td>\n",
       "    </tr>\n",
       "    <tr>\n",
       "      <th>726</th>\n",
       "      <td>54246392</td>\n",
       "      <td>54246392</td>\n",
       "      <td>(2022 CJ5)</td>\n",
       "      <td>http://ssd.jpl.nasa.gov/sbdb.cgi?sstr=54246392</td>\n",
       "      <td>30.300</td>\n",
       "      <td>False</td>\n",
       "      <td>False</td>\n",
       "      <td>0.0</td>\n",
       "      <td>0.01</td>\n",
       "      <td>2022-02-10</td>\n",
       "      <td>41878.63</td>\n",
       "      <td>Earth</td>\n",
       "      <td>31849.18</td>\n",
       "      <td>2</td>\n",
       "    </tr>\n",
       "    <tr>\n",
       "      <th>4079</th>\n",
       "      <td>54301300</td>\n",
       "      <td>54301300</td>\n",
       "      <td>(2022 RT1)</td>\n",
       "      <td>http://ssd.jpl.nasa.gov/sbdb.cgi?sstr=54301300</td>\n",
       "      <td>31.460</td>\n",
       "      <td>False</td>\n",
       "      <td>False</td>\n",
       "      <td>0.0</td>\n",
       "      <td>0.00</td>\n",
       "      <td>2022-09-01</td>\n",
       "      <td>63833.21</td>\n",
       "      <td>Earth</td>\n",
       "      <td>33000.98</td>\n",
       "      <td>9</td>\n",
       "    </tr>\n",
       "    <tr>\n",
       "      <th>5427</th>\n",
       "      <td>54322239</td>\n",
       "      <td>54322239</td>\n",
       "      <td>(2022 UW16)</td>\n",
       "      <td>http://ssd.jpl.nasa.gov/sbdb.cgi?sstr=54322239</td>\n",
       "      <td>28.900</td>\n",
       "      <td>False</td>\n",
       "      <td>False</td>\n",
       "      <td>0.0</td>\n",
       "      <td>0.01</td>\n",
       "      <td>2022-10-29</td>\n",
       "      <td>44344.41</td>\n",
       "      <td>Earth</td>\n",
       "      <td>38530.68</td>\n",
       "      <td>10</td>\n",
       "    </tr>\n",
       "    <tr>\n",
       "      <th>2662</th>\n",
       "      <td>54280768</td>\n",
       "      <td>54280768</td>\n",
       "      <td>(2022 KQ5)</td>\n",
       "      <td>http://ssd.jpl.nasa.gov/sbdb.cgi?sstr=54280768</td>\n",
       "      <td>29.100</td>\n",
       "      <td>False</td>\n",
       "      <td>False</td>\n",
       "      <td>0.0</td>\n",
       "      <td>0.01</td>\n",
       "      <td>2022-05-30</td>\n",
       "      <td>26325.66</td>\n",
       "      <td>Earth</td>\n",
       "      <td>40501.93</td>\n",
       "      <td>5</td>\n",
       "    </tr>\n",
       "    <tr>\n",
       "      <th>6056</th>\n",
       "      <td>54330579</td>\n",
       "      <td>54330579</td>\n",
       "      <td>(2022 WN9)</td>\n",
       "      <td>http://ssd.jpl.nasa.gov/sbdb.cgi?sstr=54330579</td>\n",
       "      <td>29.513</td>\n",
       "      <td>False</td>\n",
       "      <td>False</td>\n",
       "      <td>0.0</td>\n",
       "      <td>0.01</td>\n",
       "      <td>2022-11-27</td>\n",
       "      <td>60943.08</td>\n",
       "      <td>Earth</td>\n",
       "      <td>48384.24</td>\n",
       "      <td>11</td>\n",
       "    </tr>\n",
       "  </tbody>\n",
       "</table>\n",
       "</div>"
      ],
      "text/plain": [
       "            id neo_reference_id         name  \\\n",
       "1511  54264240         54264240   (2022 FD1)   \n",
       "4446  54305651         54305651   (2022 SK4)   \n",
       "5183  54317890         54317890   (2022 UR4)   \n",
       "2584  54281250         54281250   (2022 KP6)   \n",
       "1799  54275865         54275865   (2022 GQ5)   \n",
       "726   54246392         54246392   (2022 CJ5)   \n",
       "4079  54301300         54301300   (2022 RT1)   \n",
       "5427  54322239         54322239  (2022 UW16)   \n",
       "2662  54280768         54280768   (2022 KQ5)   \n",
       "6056  54330579         54330579   (2022 WN9)   \n",
       "\n",
       "                                        nasa_jpl_url  absolute_magnitude_h  \\\n",
       "1511  http://ssd.jpl.nasa.gov/sbdb.cgi?sstr=54264240                31.050   \n",
       "4446  http://ssd.jpl.nasa.gov/sbdb.cgi?sstr=54305651                30.350   \n",
       "5183  http://ssd.jpl.nasa.gov/sbdb.cgi?sstr=54317890                28.900   \n",
       "2584  http://ssd.jpl.nasa.gov/sbdb.cgi?sstr=54281250                29.410   \n",
       "1799  http://ssd.jpl.nasa.gov/sbdb.cgi?sstr=54275865                31.710   \n",
       "726   http://ssd.jpl.nasa.gov/sbdb.cgi?sstr=54246392                30.300   \n",
       "4079  http://ssd.jpl.nasa.gov/sbdb.cgi?sstr=54301300                31.460   \n",
       "5427  http://ssd.jpl.nasa.gov/sbdb.cgi?sstr=54322239                28.900   \n",
       "2662  http://ssd.jpl.nasa.gov/sbdb.cgi?sstr=54280768                29.100   \n",
       "6056  http://ssd.jpl.nasa.gov/sbdb.cgi?sstr=54330579                29.513   \n",
       "\n",
       "      is_potentially_hazardous_asteroid  is_sentry_object  min_diameter_km  \\\n",
       "1511                              False             False              0.0   \n",
       "4446                              False             False              0.0   \n",
       "5183                              False             False              0.0   \n",
       "2584                              False             False              0.0   \n",
       "1799                              False             False              0.0   \n",
       "726                               False             False              0.0   \n",
       "4079                              False             False              0.0   \n",
       "5427                              False             False              0.0   \n",
       "2662                              False             False              0.0   \n",
       "6056                              False             False              0.0   \n",
       "\n",
       "      max_diameter_km close_date  relative_velocity_perhour orbit_object  \\\n",
       "1511             0.00 2022-03-25                   66643.38        Earth   \n",
       "4446             0.01 2022-09-19                   46822.50        Earth   \n",
       "5183             0.01 2022-10-20                   54800.67        Earth   \n",
       "2584             0.01 2022-05-25                   35576.40        Earth   \n",
       "1799             0.00 2022-04-08                   51054.09        Earth   \n",
       "726              0.01 2022-02-10                   41878.63        Earth   \n",
       "4079             0.00 2022-09-01                   63833.21        Earth   \n",
       "5427             0.01 2022-10-29                   44344.41        Earth   \n",
       "2662             0.01 2022-05-30                   26325.66        Earth   \n",
       "6056             0.01 2022-11-27                   60943.08        Earth   \n",
       "\n",
       "      missing_distance_km  month  \n",
       "1511             14844.54      3  \n",
       "4446             14921.82      9  \n",
       "5183             17044.85     10  \n",
       "2584             17426.49      5  \n",
       "1799             18951.27      4  \n",
       "726              31849.18      2  \n",
       "4079             33000.98      9  \n",
       "5427             38530.68     10  \n",
       "2662             40501.93      5  \n",
       "6056             48384.24     11  "
      ]
     },
     "execution_count": 25,
     "metadata": {},
     "output_type": "execute_result"
    }
   ],
   "source": [
    "nearest_ast.head(10)"
   ]
  },
  {
   "cell_type": "code",
   "execution_count": 26,
   "id": "bdf839ce",
   "metadata": {
    "scrolled": false
   },
   "outputs": [
    {
     "data": {
      "text/plain": [
       "[Text(0.5, 1.0, 'Closest asteroids per month'), Text(0, 0.5, 'Asteroids')]"
      ]
     },
     "execution_count": 26,
     "metadata": {},
     "output_type": "execute_result"
    },
    {
     "data": {
      "image/png": "[encoded data removed]",
      "text/plain": [
       "<Figure size 640x480 with 1 Axes>"
      ]
     },
     "metadata": {},
     "output_type": "display_data"
    }
   ],
   "source": [
    "f = nearest_ast.groupby('month').count().sort_values('month')[['neo_reference_id']].plot()\n",
    "f.set(title='Closest asteroids per month', ylabel='Asteroids')"
   ]
  },
  {
   "cell_type": "code",
   "execution_count": 27,
   "id": "c60038a4",
   "metadata": {},
   "outputs": [
    {
     "data": {
      "text/html": [
       "<div>\n",
       "<style scoped>\n",
       "    .dataframe tbody tr th:only-of-type {\n",
       "        vertical-align: middle;\n",
       "    }\n",
       "\n",
       "    .dataframe tbody tr th {\n",
       "        vertical-align: top;\n",
       "    }\n",
       "\n",
       "    .dataframe thead th {\n",
       "        text-align: right;\n",
       "    }\n",
       "</style>\n",
       "<table border=\"1\" class=\"dataframe\">\n",
       "  <thead>\n",
       "    <tr style=\"text-align: right;\">\n",
       "      <th></th>\n",
       "      <th>id</th>\n",
       "      <th>neo_reference_id</th>\n",
       "      <th>name</th>\n",
       "      <th>nasa_jpl_url</th>\n",
       "      <th>absolute_magnitude_h</th>\n",
       "      <th>is_potentially_hazardous_asteroid</th>\n",
       "      <th>is_sentry_object</th>\n",
       "      <th>min_diameter_km</th>\n",
       "      <th>max_diameter_km</th>\n",
       "      <th>close_date</th>\n",
       "      <th>relative_velocity_perhour</th>\n",
       "      <th>orbit_object</th>\n",
       "      <th>missing_distance_km</th>\n",
       "      <th>month</th>\n",
       "    </tr>\n",
       "  </thead>\n",
       "  <tbody>\n",
       "    <tr>\n",
       "      <th>0</th>\n",
       "      <td>54231779</td>\n",
       "      <td>54231779</td>\n",
       "      <td>(2021 YT)</td>\n",
       "      <td>http://ssd.jpl.nasa.gov/sbdb.cgi?sstr=54231779</td>\n",
       "      <td>22.73</td>\n",
       "      <td>False</td>\n",
       "      <td>False</td>\n",
       "      <td>0.08</td>\n",
       "      <td>0.17</td>\n",
       "      <td>2022-01-01</td>\n",
       "      <td>15813.99</td>\n",
       "      <td>Earth</td>\n",
       "      <td>40580353.68</td>\n",
       "      <td>1</td>\n",
       "    </tr>\n",
       "    <tr>\n",
       "      <th>1</th>\n",
       "      <td>54235478</td>\n",
       "      <td>54235478</td>\n",
       "      <td>(2022 AK1)</td>\n",
       "      <td>http://ssd.jpl.nasa.gov/sbdb.cgi?sstr=54235478</td>\n",
       "      <td>22.38</td>\n",
       "      <td>False</td>\n",
       "      <td>False</td>\n",
       "      <td>0.09</td>\n",
       "      <td>0.20</td>\n",
       "      <td>2022-01-01</td>\n",
       "      <td>95980.54</td>\n",
       "      <td>Earth</td>\n",
       "      <td>25682005.25</td>\n",
       "      <td>1</td>\n",
       "    </tr>\n",
       "    <tr>\n",
       "      <th>2</th>\n",
       "      <td>54235537</td>\n",
       "      <td>54235537</td>\n",
       "      <td>(2022 AF2)</td>\n",
       "      <td>http://ssd.jpl.nasa.gov/sbdb.cgi?sstr=54235537</td>\n",
       "      <td>24.67</td>\n",
       "      <td>False</td>\n",
       "      <td>False</td>\n",
       "      <td>0.03</td>\n",
       "      <td>0.07</td>\n",
       "      <td>2022-01-01</td>\n",
       "      <td>41743.52</td>\n",
       "      <td>Earth</td>\n",
       "      <td>12431720.25</td>\n",
       "      <td>1</td>\n",
       "    </tr>\n",
       "    <tr>\n",
       "      <th>3</th>\n",
       "      <td>54235681</td>\n",
       "      <td>54235681</td>\n",
       "      <td>(2022 AM3)</td>\n",
       "      <td>http://ssd.jpl.nasa.gov/sbdb.cgi?sstr=54235681</td>\n",
       "      <td>26.57</td>\n",
       "      <td>False</td>\n",
       "      <td>False</td>\n",
       "      <td>0.01</td>\n",
       "      <td>0.03</td>\n",
       "      <td>2022-01-01</td>\n",
       "      <td>24783.95</td>\n",
       "      <td>Earth</td>\n",
       "      <td>3985478.31</td>\n",
       "      <td>1</td>\n",
       "    </tr>\n",
       "    <tr>\n",
       "      <th>4</th>\n",
       "      <td>54248460</td>\n",
       "      <td>54248460</td>\n",
       "      <td>(2022 DE2)</td>\n",
       "      <td>http://ssd.jpl.nasa.gov/sbdb.cgi?sstr=54248460</td>\n",
       "      <td>19.57</td>\n",
       "      <td>False</td>\n",
       "      <td>False</td>\n",
       "      <td>0.32</td>\n",
       "      <td>0.72</td>\n",
       "      <td>2022-01-01</td>\n",
       "      <td>66890.83</td>\n",
       "      <td>Earth</td>\n",
       "      <td>70318526.11</td>\n",
       "      <td>1</td>\n",
       "    </tr>\n",
       "    <tr>\n",
       "      <th>...</th>\n",
       "      <td>...</td>\n",
       "      <td>...</td>\n",
       "      <td>...</td>\n",
       "      <td>...</td>\n",
       "      <td>...</td>\n",
       "      <td>...</td>\n",
       "      <td>...</td>\n",
       "      <td>...</td>\n",
       "      <td>...</td>\n",
       "      <td>...</td>\n",
       "      <td>...</td>\n",
       "      <td>...</td>\n",
       "      <td>...</td>\n",
       "      <td>...</td>\n",
       "    </tr>\n",
       "    <tr>\n",
       "      <th>6556</th>\n",
       "      <td>3825180</td>\n",
       "      <td>3825180</td>\n",
       "      <td>(2018 LM4)</td>\n",
       "      <td>http://ssd.jpl.nasa.gov/sbdb.cgi?sstr=3825180</td>\n",
       "      <td>18.76</td>\n",
       "      <td>False</td>\n",
       "      <td>False</td>\n",
       "      <td>0.47</td>\n",
       "      <td>1.05</td>\n",
       "      <td>2023-01-06</td>\n",
       "      <td>68200.50</td>\n",
       "      <td>Earth</td>\n",
       "      <td>57701786.14</td>\n",
       "      <td>1</td>\n",
       "    </tr>\n",
       "    <tr>\n",
       "      <th>6557</th>\n",
       "      <td>3986832</td>\n",
       "      <td>3986832</td>\n",
       "      <td>(2020 BT2)</td>\n",
       "      <td>http://ssd.jpl.nasa.gov/sbdb.cgi?sstr=3986832</td>\n",
       "      <td>23.67</td>\n",
       "      <td>False</td>\n",
       "      <td>False</td>\n",
       "      <td>0.05</td>\n",
       "      <td>0.11</td>\n",
       "      <td>2023-01-06</td>\n",
       "      <td>85215.24</td>\n",
       "      <td>Earth</td>\n",
       "      <td>63953666.17</td>\n",
       "      <td>1</td>\n",
       "    </tr>\n",
       "    <tr>\n",
       "      <th>6558</th>\n",
       "      <td>3989408</td>\n",
       "      <td>3989408</td>\n",
       "      <td>(2020 CN)</td>\n",
       "      <td>http://ssd.jpl.nasa.gov/sbdb.cgi?sstr=3989408</td>\n",
       "      <td>27.40</td>\n",
       "      <td>False</td>\n",
       "      <td>False</td>\n",
       "      <td>0.01</td>\n",
       "      <td>0.02</td>\n",
       "      <td>2023-01-06</td>\n",
       "      <td>106028.06</td>\n",
       "      <td>Earth</td>\n",
       "      <td>74174911.15</td>\n",
       "      <td>1</td>\n",
       "    </tr>\n",
       "    <tr>\n",
       "      <th>6559</th>\n",
       "      <td>54013568</td>\n",
       "      <td>54013568</td>\n",
       "      <td>(2020 EO)</td>\n",
       "      <td>http://ssd.jpl.nasa.gov/sbdb.cgi?sstr=54013568</td>\n",
       "      <td>25.90</td>\n",
       "      <td>False</td>\n",
       "      <td>False</td>\n",
       "      <td>0.02</td>\n",
       "      <td>0.04</td>\n",
       "      <td>2023-01-06</td>\n",
       "      <td>29352.57</td>\n",
       "      <td>Earth</td>\n",
       "      <td>25671748.00</td>\n",
       "      <td>1</td>\n",
       "    </tr>\n",
       "    <tr>\n",
       "      <th>6560</th>\n",
       "      <td>54281887</td>\n",
       "      <td>54281887</td>\n",
       "      <td>(2022 LF)</td>\n",
       "      <td>http://ssd.jpl.nasa.gov/sbdb.cgi?sstr=54281887</td>\n",
       "      <td>23.16</td>\n",
       "      <td>False</td>\n",
       "      <td>False</td>\n",
       "      <td>0.06</td>\n",
       "      <td>0.14</td>\n",
       "      <td>2023-01-06</td>\n",
       "      <td>13541.01</td>\n",
       "      <td>Earth</td>\n",
       "      <td>18725641.03</td>\n",
       "      <td>1</td>\n",
       "    </tr>\n",
       "  </tbody>\n",
       "</table>\n",
       "<p>6561 rows × 14 columns</p>\n",
       "</div>"
      ],
      "text/plain": [
       "            id neo_reference_id        name  \\\n",
       "0     54231779         54231779   (2021 YT)   \n",
       "1     54235478         54235478  (2022 AK1)   \n",
       "2     54235537         54235537  (2022 AF2)   \n",
       "3     54235681         54235681  (2022 AM3)   \n",
       "4     54248460         54248460  (2022 DE2)   \n",
       "...        ...              ...         ...   \n",
       "6556   3825180          3825180  (2018 LM4)   \n",
       "6557   3986832          3986832  (2020 BT2)   \n",
       "6558   3989408          3989408   (2020 CN)   \n",
       "6559  54013568         54013568   (2020 EO)   \n",
       "6560  54281887         54281887   (2022 LF)   \n",
       "\n",
       "                                        nasa_jpl_url  absolute_magnitude_h  \\\n",
       "0     http://ssd.jpl.nasa.gov/sbdb.cgi?sstr=54231779                 22.73   \n",
       "1     http://ssd.jpl.nasa.gov/sbdb.cgi?sstr=54235478                 22.38   \n",
       "2     http://ssd.jpl.nasa.gov/sbdb.cgi?sstr=54235537                 24.67   \n",
       "3     http://ssd.jpl.nasa.gov/sbdb.cgi?sstr=54235681                 26.57   \n",
       "4     http://ssd.jpl.nasa.gov/sbdb.cgi?sstr=54248460                 19.57   \n",
       "...                                              ...                   ...   \n",
       "6556   http://ssd.jpl.nasa.gov/sbdb.cgi?sstr=3825180                 18.76   \n",
       "6557   http://ssd.jpl.nasa.gov/sbdb.cgi?sstr=3986832                 23.67   \n",
       "6558   http://ssd.jpl.nasa.gov/sbdb.cgi?sstr=3989408                 27.40   \n",
       "6559  http://ssd.jpl.nasa.gov/sbdb.cgi?sstr=54013568                 25.90   \n",
       "6560  http://ssd.jpl.nasa.gov/sbdb.cgi?sstr=54281887                 23.16   \n",
       "\n",
       "      is_potentially_hazardous_asteroid  is_sentry_object  min_diameter_km  \\\n",
       "0                                 False             False             0.08   \n",
       "1                                 False             False             0.09   \n",
       "2                                 False             False             0.03   \n",
       "3                                 False             False             0.01   \n",
       "4                                 False             False             0.32   \n",
       "...                                 ...               ...              ...   \n",
       "6556                              False             False             0.47   \n",
       "6557                              False             False             0.05   \n",
       "6558                              False             False             0.01   \n",
       "6559                              False             False             0.02   \n",
       "6560                              False             False             0.06   \n",
       "\n",
       "      max_diameter_km close_date  relative_velocity_perhour orbit_object  \\\n",
       "0                0.17 2022-01-01                   15813.99        Earth   \n",
       "1                0.20 2022-01-01                   95980.54        Earth   \n",
       "2                0.07 2022-01-01                   41743.52        Earth   \n",
       "3                0.03 2022-01-01                   24783.95        Earth   \n",
       "4                0.72 2022-01-01                   66890.83        Earth   \n",
       "...               ...        ...                        ...          ...   \n",
       "6556             1.05 2023-01-06                   68200.50        Earth   \n",
       "6557             0.11 2023-01-06                   85215.24        Earth   \n",
       "6558             0.02 2023-01-06                  106028.06        Earth   \n",
       "6559             0.04 2023-01-06                   29352.57        Earth   \n",
       "6560             0.14 2023-01-06                   13541.01        Earth   \n",
       "\n",
       "      missing_distance_km  month  \n",
       "0             40580353.68      1  \n",
       "1             25682005.25      1  \n",
       "2             12431720.25      1  \n",
       "3              3985478.31      1  \n",
       "4             70318526.11      1  \n",
       "...                   ...    ...  \n",
       "6556          57701786.14      1  \n",
       "6557          63953666.17      1  \n",
       "6558          74174911.15      1  \n",
       "6559          25671748.00      1  \n",
       "6560          18725641.03      1  \n",
       "\n",
       "[6561 rows x 14 columns]"
      ]
     },
     "execution_count": 27,
     "metadata": {},
     "output_type": "execute_result"
    }
   ],
   "source": [
    "data_ast"
   ]
  },
  {
   "cell_type": "code",
   "execution_count": null,
   "id": "e07d991f",
   "metadata": {},
   "outputs": [],
   "source": []
  }
 ],
 "metadata": {
  "kernelspec": {
   "display_name": "Python 3 (ipykernel)",
   "language": "python",
   "name": "python3"
  },
  "language_info": {
   "codemirror_mode": {
    "name": "ipython",
    "version": 3
   },
   "file_extension": ".py",
   "mimetype": "text/x-python",
   "name": "python",
   "nbconvert_exporter": "python",
   "pygments_lexer": "ipython3",
   "version": "3.9.13"
  },
  "vscode": {
   "interpreter": {
    "hash": "40d3a090f54c6569ab1632332b64b2c03c39dcf918b08424e98f38b5ae0af88f"
   }
  }
 },
 "nbformat": 4,
 "nbformat_minor": 5
}
